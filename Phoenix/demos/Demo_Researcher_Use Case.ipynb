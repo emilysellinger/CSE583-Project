{
 "cells": [
  {
   "cell_type": "markdown",
   "metadata": {},
   "source": [
    "### Demostration for Researcher Use Case\n",
    "This notebook contains a prospective analysis of bird sighting variation due changing air quaility in Oregon. Our analysis focuses on the 2020 Oregon wildfires. Understanding how bird observations change with worsening air quaility could offer insight into how bird populations respond to wildfires. Our main goal is data exploration. We hope that any interesting findings could be used by researchers in future studies. Secondly, we hope to demonstrate some of the functionality of Altair, a descriptive statiscal visualization library, within the context of ecological research."
   ]
  },
  {
   "cell_type": "markdown",
   "metadata": {},
   "source": [
    "#### Uploading and Cleaning Data"
   ]
  },
  {
   "cell_type": "code",
   "execution_count": 1,
   "metadata": {},
   "outputs": [],
   "source": [
    "# import the necessary packages for data exploration/visualization\n",
    "import numpy as np\n",
    "import pandas as pd\n",
    "import altair as alt\n",
    "\n",
    "# import python modules for data summarization\n",
    "import air_quality_knn\n",
    "import data_cleaning"
   ]
  },
  {
   "cell_type": "code",
   "execution_count": null,
   "metadata": {},
   "outputs": [],
   "source": [
    "# read data into notebook as a pandas dataframe (necessary for Altair)\n",
    "bird_df = pd.read_csv(\"https://raw.githubusercontent.com/emilysellinger/CSE583-Project/main/Phoenix/data/shortened_bird_data.csv\")\n",
    "air_df = pd.read_csv(\"https://raw.githubusercontent.com/emilysellinger/CSE583-Project/main/Phoenix/data/Daily_Avg_PM2.5_Location.csv\")"
   ]
  },
  {
   "cell_type": "code",
   "execution_count": null,
   "metadata": {},
   "outputs": [],
   "source": [
    "# Use k nearest neighbors regression to estimate the PM2.5 levels at the location of each observation\n",
    "# for further information on this function, see documentation in air_quality_knn.py \n",
    "air_quality_knn.air_quality_knn(air_df, bird_df)\n",
    "\n",
    "# Use EPA AQI limits to categorize each PM2.5 estimation into either \"Good\", \"Moderate\", \n",
    "# \"Unhealthy for Sensative Groups\", \"Unhealthy\", \"Very Unhealthy\", \"Hazardous\"\n",
    "# more documentation on this classification can be found in data_cleaning.py\n",
    "assign_aqicat(bird_df)\n"
   ]
  },
  {
   "cell_type": "markdown",
   "metadata": {},
   "source": [
    "#### Inital Visualizations\n",
    "Before testing any models, we would like to get a feel for any large scale patterns within the data, as well as identify any necessary transformations. "
   ]
  },
  {
   "cell_type": "code",
   "execution_count": null,
   "metadata": {},
   "outputs": [],
   "source": [
    "alt.Chart(nf_df2).mark_line().encode(\n",
    "    x='date',\n",
    "    y='avobs_count'\n",
    ").interactive()"
   ]
  },
  {
   "cell_type": "markdown",
   "metadata": {},
   "source": [
    "#### Statistical Models\n",
    "Based on our initial data exploration, we believe ? will be an appropriate method to test if ? varies with ?"
   ]
  },
  {
   "cell_type": "code",
   "execution_count": null,
   "metadata": {},
   "outputs": [],
   "source": [
    "alt.Chart(nf_df2).mark_point().encode(\n",
    "    x='avg_pm',\n",
    "    y='obs_count',\n",
    "    color='county'\n",
    ").interactive()"
   ]
  },
  {
   "cell_type": "markdown",
   "metadata": {},
   "source": [
    "#### Summary and Next Steps\n",
    "We found a ? Based on this information, we believe researchers should ?"
   ]
  },
  {
   "cell_type": "code",
   "execution_count": null,
   "metadata": {},
   "outputs": [],
   "source": []
  }
 ],
 "metadata": {
  "kernelspec": {
   "display_name": "Python 3",
   "language": "python",
   "name": "python3"
  },
  "language_info": {
   "codemirror_mode": {
    "name": "ipython",
    "version": 3
   },
   "file_extension": ".py",
   "mimetype": "text/x-python",
   "name": "python",
   "nbconvert_exporter": "python",
   "pygments_lexer": "ipython3",
   "version": "3.8.5"
  }
 },
 "nbformat": 4,
 "nbformat_minor": 4
}
