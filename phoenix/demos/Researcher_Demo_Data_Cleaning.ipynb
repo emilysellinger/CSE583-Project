{
 "cells": [
  {
   "cell_type": "markdown",
   "metadata": {},
   "source": [
    "### Demostration for Researcher Use Case\n",
    "These notebooks contain a prospective analysis of bird sighting variation due changing air quaility in Oregon. Our analysis focuses on the 2020 Oregon wildfires. Understanding how bird observations change with worsening air quaility could offer insight into how bird populations respond to wildfires. Our main goal is data exploration. We hope that any interesting findings could be used by researchers in future studies. Secondly, we hope to demonstrate some of the functionality of Altair, a descriptive statiscal visualization library, within the context of ecological research.\n",
    "\n",
    "This particular notebook will focus on loading the data into Jupyter Notebooks, importing pre-made python modudules, and running functions from within those modules."
   ]
  },
  {
   "cell_type": "markdown",
   "metadata": {},
   "source": [
    "#### Uploading and Cleaning Data"
   ]
  },
  {
   "cell_type": "code",
   "execution_count": null,
   "metadata": {},
   "outputs": [],
   "source": [
    "# First we will imput our two python modules, air_quality_knn and data_cleaning\n",
    "\n",
    "import air_quality_knn\n",
    "import data_cleaning"
   ]
  },
  {
   "cell_type": "code",
   "execution_count": null,
   "metadata": {},
   "outputs": [],
   "source": [
    "# read data into notebook as a pandas dataframe (necessary for Altair)\n",
    "bird_df = pd.read_csv(\"https://raw.githubusercontent.com/emilysellinger/Phoenix/main/phoenix/data/shortened_bird_data.csv\")\n",
    "air_df = pd.read_csv(\"https://raw.githubusercontent.com/emilysellinger/Phoenix/main/phoenix/data/Daily_Avg_PM2.5_Location.csv\")"
   ]
  },
  {
   "cell_type": "code",
   "execution_count": null,
   "metadata": {},
   "outputs": [],
   "source": [
    "# Use k nearest neighbors regression to estimate the PM2.5 levels at the location of each observation\n",
    "# for further information on this function, see documentation in air_quality_knn.py \n",
    "air_quality_knn.air_quality_knn(air_df, bird_df)\n",
    "\n",
    "# Use EPA AQI limits to categorize each PM2.5 estimation into either \"Good\", \"Moderate\", \n",
    "# \"Unhealthy for Sensative Groups\", \"Unhealthy\", \"Very Unhealthy\", \"Hazardous\"\n",
    "# more documentation on this classification can be found in data_cleaning.py\n",
    "data_cleaning.assign_aqicat(bird_df)"
   ]
  },
  {
   "cell_type": "code",
   "execution_count": null,
   "metadata": {},
   "outputs": [],
   "source": [
    "# we will also rename the Avg_PM2.5 column as Altair does not work with \".\" in column name\n",
    "\n",
    "bird_df.rename(columns = {'Avg_PM2.5':'Avg_PM'}, inplace = True)"
   ]
  },
  {
   "cell_type": "code",
   "execution_count": null,
   "metadata": {},
   "outputs": [],
   "source": [
    "# Given the range of the observation counts and PM2.5 data is large, we will log transform it\n",
    "bird_df['log_obs_count'] = np.log(bird_df['observation count'])\n",
    "bird_df['log_Avg_PM'] = np.log(bird_df['Avg_PM'])"
   ]
  },
  {
   "cell_type": "markdown",
   "metadata": {},
   "source": [
    "#### Exporting Clean Data "
   ]
  },
  {
   "cell_type": "code",
   "execution_count": null,
   "metadata": {},
   "outputs": [],
   "source": [
    "# When using large datasets, Altair functions best by calling the data via url. Now that we have our cleaned data\n",
    "# we can export it from the Jupyter Notebook as a csv to use in our next demo\n",
    "\n"
   ]
  }
 ],
 "metadata": {
  "kernelspec": {
   "display_name": "Python 3",
   "language": "python",
   "name": "python3"
  },
  "language_info": {
   "codemirror_mode": {
    "name": "ipython",
    "version": 3
   },
   "file_extension": ".py",
   "mimetype": "text/x-python",
   "name": "python",
   "nbconvert_exporter": "python",
   "pygments_lexer": "ipython3",
   "version": "3.8.5"
  }
 },
 "nbformat": 4,
 "nbformat_minor": 4
}
