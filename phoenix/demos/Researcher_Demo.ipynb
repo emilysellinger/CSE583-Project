{
 "cells": [
  {
   "cell_type": "markdown",
   "metadata": {},
   "source": [
    "### Demostration for Researcher Use Case\n",
    "This notebook contain a prospective analysis of bird sighting variation due changing air quaility in Oregon. Our analysis focuses on the 2020 Oregon wildfires. Understanding how bird observations change with worsening air quaility could offer insight into how bird populations respond to wildfires. Our main goal is data exploration. We hope that any interesting findings could be used by researchers in future studies. Secondly, we hope to demonstrate some of the functionality of Altair, a descriptive statiscal visualization library, within the context of ecological research."
   ]
  },
  {
   "cell_type": "markdown",
   "metadata": {},
   "source": [
    "#### Import Data and Initial Packages"
   ]
  },
  {
   "cell_type": "code",
   "execution_count": null,
   "metadata": {},
   "outputs": [],
   "source": [
    "# First let's import the necessary packages for the inital data processing\n",
    "import numpy as np\n",
    "import pandas as pd\n",
    "\n",
    "# We will also import our two python modules, which contain functions for adding estimate AQI to the sightings\n",
    "import air_quality_knn\n",
    "import data_cleaning\n"
   ]
  },
  {
   "cell_type": "code",
   "execution_count": null,
   "metadata": {},
   "outputs": [],
   "source": [
    "# now we will read in the Ebird and air quality data as pandas dataframes (which is necessary for Altair)\n",
    "\n",
    "bird_df = pd.read_csv(\"https://bernease.s3-us-west-2.amazonaws.com/hold/cse583_au20_ebird/ebird_residents_OR_2020.csv\")\n",
    "air_df = pd.read_csv(\"https://raw.githubusercontent.com/emilysellinger/Phoenix/main/phoenix/data/Daily_Avg_PM2.5_Location.csv\")"
   ]
  },
  {
   "cell_type": "code",
   "execution_count": null,
   "metadata": {},
   "outputs": [],
   "source": [
    "# Now that we have the data as pandas dataframes, we can pass them to our functions in our python modules\n",
    "# The first function will use k nearest neighbors regression to estimate the PM 2.5 level at the latitute\n",
    "# and longitude of the bird sighting based on the levels at nearby air stations\n",
    "\n",
    "bird_df = air_quality_knn.air_quality_knn(air_df, bird_df)\n",
    "\n",
    "# The second function will use the estimated PM 2.5 level to determine the Air Quality Index (AQI). The EPA has\n",
    "# six AQI categories, more information can be found in our function documentation as well as on the EPA website\n",
    "\n",
    "bird_df = data_cleaning.assign_aqicat(bird_df)"
   ]
  },
  {
   "cell_type": "code",
   "execution_count": null,
   "metadata": {},
   "outputs": [],
   "source": [
    "# We can check that the new columns have been added by looking at the dataframe\n",
    "bird_df.head()"
   ]
  },
  {
   "cell_type": "code",
   "execution_count": null,
   "metadata": {},
   "outputs": [],
   "source": [
    "# We can also get a summary of the columns using the pandas function describe\n",
    "bird_df.describe()"
   ]
  },
  {
   "cell_type": "code",
   "execution_count": null,
   "metadata": {},
   "outputs": [],
   "source": [
    "# Because the ranges on both the PM 2.5 levels and the observation counts is large, we will log transform both of\n",
    "# those columns\n",
    "\n",
    "bird_df['log_avg_PM'] = np.log(bird_df['Avg_PM2.5'])\n",
    "\n",
    "bird_df['log_obs_count'] = np.log(bird_df['observation count'])\n"
   ]
  },
  {
   "cell_type": "code",
   "execution_count": null,
   "metadata": {},
   "outputs": [],
   "source": [
    "# Because the data set is so large, we will focuse our visualizations on immediately before and after the fires\n",
    "# To do this, we will create a smaller dataset that only includes dates after July 31, 2020\n",
    "red_bird_df = bird_df.loc[bird_df['observation date'] > '2020-07-31']\n",
    "red_bird_df.head()"
   ]
  },
  {
   "cell_type": "markdown",
   "metadata": {},
   "source": [
    "#### Inital Visualizations\n"
   ]
  },
  {
   "cell_type": "code",
   "execution_count": null,
   "metadata": {},
   "outputs": [],
   "source": [
    "# First let's import the necessary packages for data exploration/visualization\n",
    "import altair as alt"
   ]
  },
  {
   "cell_type": "code",
   "execution_count": null,
   "metadata": {},
   "outputs": [],
   "source": [
    "# Note: If you choose not to call in the data via url, you may experience lag when creating Altair graphs. Also, \n",
    "# if the data frame is larger than 5000 rows, you will need to disable the max rows setting in Altair\n",
    "\n",
    "alt.data_transformers.disable_max_rows()"
   ]
  },
  {
   "cell_type": "code",
   "execution_count": null,
   "metadata": {},
   "outputs": [],
   "source": [
    "alt.Chart(red_bird_df).mark_line().encode(\n",
    "    x='observation date',\n",
    "    y='log_obs_count',\n",
    "    color='order'\n",
    ")\n",
    "# It's hard to see any trends in a format like this so let's graph the data a different way "
   ]
  },
  {
   "cell_type": "code",
   "execution_count": null,
   "metadata": {
    "scrolled": false
   },
   "outputs": [],
   "source": [
    "# Let's look at the log of PM2.5 level versus log of observation count for each county by bird taxonomic order\n",
    "alt.Chart(red_bird_df).mark_point().encode(\n",
    "    column='county',\n",
    "    x='log_avg_PM',\n",
    "    y='log_obs_count',\n",
    "    color='order'\n",
    ")\n",
    "# even after transforming the data, there is still some issues with clumping that is likely related to how data\n",
    "# is collected in Ebird (not all users include the number of individual birds they see, in cases where that\n",
    "# is the case, Ebird just records an X for presence, we substituted that X for 1. As such, there are a lot of\n",
    "# observation counts equal to 1, which might not be reflective of the true number of individuals sighted)"
   ]
  },
  {
   "cell_type": "code",
   "execution_count": null,
   "metadata": {},
   "outputs": [],
   "source": [
    "# Let's look at the log of observation counts versus AQI index by county\n",
    "alt.Chart(red_bird_df).mark_boxplot().encode(\n",
    "    column='county',\n",
    "    x=alt.X('AQI_Category', sort=['Good', 'Moderate', 'Unhealthy for Sensitive Groups', 'Unhealthy',\n",
    "                               'Very Unhealthy', 'Hazardous']),\n",
    "    y='log_obs_count'\n",
    ")\n",
    "\n",
    "# There seems to be some variation in observation counts across counties, which makes sense as the fires\n",
    "# were not evenly distributed across the state"
   ]
  },
  {
   "cell_type": "code",
   "execution_count": null,
   "metadata": {},
   "outputs": [],
   "source": [
    "# Let's look at the log of observation counts versus AQI index by bird taxonomic order\n",
    "alt.Chart(red_bird_df).mark_boxplot().encode(\n",
    "    column='order',\n",
    "    x=alt.X('AQI_Category', sort=['Good', 'Moderate', 'Unhealthy for Sensitive Groups', 'Unhealthy',\n",
    "                               'Very Unhealthy', 'Hazardous']),\n",
    "    y='log_obs_count'\n",
    ")\n",
    "# It seems that using AQI categories may be more meaningful of an analysis than the raw PM2.5 level due to\n",
    "# error at a more fine scale measurement. However, there are still a lot of outliers, especially for the \n",
    "# \"Good\" AQI days"
   ]
  },
  {
   "cell_type": "code",
   "execution_count": null,
   "metadata": {},
   "outputs": [],
   "source": [
    "# Looking at the box plots, there seems to variation between number of observations, AQI, and taxonomic order"
   ]
  },
  {
   "cell_type": "markdown",
   "metadata": {},
   "source": [
    "#### Statistical Models\n",
    "Based on our initial data exploration, we believe daily observation counts vary with air quaility with county and taxonomic order also affecting sighthings. Given the noise in the PM2.5 levels, using AQI as a categorical variable might be more appropriate."
   ]
  },
  {
   "cell_type": "code",
   "execution_count": null,
   "metadata": {},
   "outputs": [],
   "source": [
    "# first let's import the scipy statistics module, which will allow us to \n",
    "import scipy.stats as stats"
   ]
  },
  {
   "cell_type": "code",
   "execution_count": null,
   "metadata": {},
   "outputs": [],
   "source": [
    "# Now we will break our bird_df into observations by AQI category \"Good\", \"Moderate\", \n",
    "# \"Unhealthy for Sensative Groups\", \"Unhealthy\", \"Very Unhealthy\", \"Hazardous\"\n",
    "# Like R, python allows for easy subsection of dataframes\n",
    "\n",
    "good_counts = red_bird_df[(red_bird_df['AQI_Category'] == 'Good')]\n",
    "\n",
    "mod_counts = red_bird_df[(red_bird_df['AQI_Category'] == 'Moderate')]\n",
    "\n",
    "usg_counts = red_bird_df[(red_bird_df['AQI_Category'] == 'Unhealthy for Sensitive Groups')]\n",
    "\n",
    "unhealthy_counts = red_bird_df[(red_bird_df['AQI_Category'] == 'Unhealthy')]\n",
    "\n",
    "vu_counts = red_bird_df[(red_bird_df['AQI_Category'] == 'Very Unhealthy')]\n",
    "\n",
    "haz_counts = red_bird_df[(red_bird_df['AQI_Category'] == 'Hazardous')]"
   ]
  },
  {
   "cell_type": "code",
   "execution_count": null,
   "metadata": {},
   "outputs": [],
   "source": [
    "# With the subset data, we can perform a one-way ANOVA\n",
    "F, p = stats.f_oneway(good_counts['log_obs_count'],mod_counts['log_obs_count'], usg_counts['log_obs_count'], \n",
    "                      unhealthy_counts['log_obs_count'], vu_counts['log_obs_count'], haz_counts['log_obs_count'])\n",
    "print('F-Statistic=%.3f, p=%.3f' % (F, p))"
   ]
  },
  {
   "cell_type": "markdown",
   "metadata": {},
   "source": [
    "#### Summary and Next Steps\n",
    "A simple one-way ANOVA found that the average log of daily bird observations was significantly different among AQI categories. Following a significant p-value, further ad hoc tests should be completed to determine which of the averages are significantly different from one another. Also, researchers could dive further into the relationship between county, order, and PM2.5 levels. To further untangle the relationship between order, the inclusion of primary habitat type might be useful. Even within the same order, habitat preferences may differ and certain habitats, such as forest edges."
   ]
  },
  {
   "cell_type": "code",
   "execution_count": null,
   "metadata": {},
   "outputs": [],
   "source": []
  }
 ],
 "metadata": {
  "kernelspec": {
   "display_name": "Python 3",
   "language": "python",
   "name": "python3"
  },
  "language_info": {
   "codemirror_mode": {
    "name": "ipython",
    "version": 3
   },
   "file_extension": ".py",
   "mimetype": "text/x-python",
   "name": "python",
   "nbconvert_exporter": "python",
   "pygments_lexer": "ipython3",
   "version": "3.8.5"
  }
 },
 "nbformat": 4,
 "nbformat_minor": 4
}
